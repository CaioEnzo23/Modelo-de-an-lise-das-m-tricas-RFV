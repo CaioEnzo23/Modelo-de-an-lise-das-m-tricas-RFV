{
  "nbformat": 4,
  "nbformat_minor": 0,
  "metadata": {
    "colab": {
      "provenance": [],
      "collapsed_sections": [
        "WG3ehh0U0yoX",
        "pmaJxCMg2ch4",
        "4itEjYGp2yLA",
        "sP0mlX1i2-lT",
        "QyDvz9OP3JRt",
        "MXJ7DVGW3XDL"
      ],
      "authorship_tag": "ABX9TyOFXMrwi9XCLnTTpkSwmYxr",
      "include_colab_link": true
    },
    "kernelspec": {
      "name": "python3",
      "display_name": "Python 3"
    },
    "language_info": {
      "name": "python"
    }
  },
  "cells": [
    {
      "cell_type": "markdown",
      "metadata": {
        "id": "view-in-github",
        "colab_type": "text"
      },
      "source": [
        "<a href=\"https://colab.research.google.com/github/CaioEnzo23/Modelo-de-analise-das-metricas-RFV/blob/main/Desafio_7.ipynb\" target=\"_parent\"><img src=\"https://colab.research.google.com/assets/colab-badge.svg\" alt=\"Open In Colab\"/></a>"
      ]
    },
    {
      "cell_type": "markdown",
      "source": [
        "#**Setup**"
      ],
      "metadata": {
        "id": "WG3ehh0U0yoX"
      }
    },
    {
      "cell_type": "markdown",
      "source": [
        "Instalação de Bibliotecas"
      ],
      "metadata": {
        "id": "zaA4gWx003Zf"
      }
    },
    {
      "cell_type": "code",
      "execution_count": null,
      "metadata": {
        "id": "y82grB9Bz2TL"
      },
      "outputs": [],
      "source": [
        "%pip install plotly\n",
        "%pip install cufflinks\n",
        "%pip install chart-studio"
      ]
    },
    {
      "cell_type": "code",
      "source": [
        "!pip install pandas-profiling\n",
        "!pip install sidetable\n",
        "!pip install scikit-learn"
      ],
      "metadata": {
        "id": "5sC1FCUY06vl"
      },
      "execution_count": null,
      "outputs": []
    },
    {
      "cell_type": "markdown",
      "source": [
        "Importação das principais bilbiotecas ultilizadas"
      ],
      "metadata": {
        "id": "IfIKsJZf08um"
      }
    },
    {
      "cell_type": "code",
      "source": [
        "import pandas as pd\n",
        "import seaborn as sns\n",
        "import numpy as np\n",
        "import matplotlib.pyplot as plt\n",
        "\n",
        "import chart_studio.plotly as py\n",
        "import cufflinks as cf\n",
        "\n",
        "import plotly.graph_objects as go\n",
        "import plotly.express as px"
      ],
      "metadata": {
        "id": "0Npfdvld2PUu"
      },
      "execution_count": null,
      "outputs": []
    },
    {
      "cell_type": "code",
      "source": [
        "import missingno as msno\n",
        "from ipywidgets import interact, widgets\n",
        "\n",
        "from sklearn import datasets\n",
        "from sklearn.preprocessing import scale, minmax_scale, power_transform\n",
        "from sklearn.datasets import load_wine"
      ],
      "metadata": {
        "id": "qGlCwgaQ2Rfq"
      },
      "execution_count": null,
      "outputs": []
    },
    {
      "cell_type": "code",
      "source": [
        "from sklearn.model_selection import train_test_split\n",
        "from sklearn.preprocessing import OneHotEncoder, StandardScaler\n",
        "from sklearn.linear_model import LogisticRegression\n",
        "from sklearn.pipeline import Pipeline\n",
        "from sklearn.compose import ColumnTransformer"
      ],
      "metadata": {
        "id": "XrOVne7A2UqL"
      },
      "execution_count": null,
      "outputs": []
    },
    {
      "cell_type": "code",
      "source": [
        "from sklearn.metrics import confusion_matrix\n",
        "from sklearn.metrics import confusion_matrix, ConfusionMatrixDisplay\n",
        "import matplotlib.pyplot as plt\n",
        "from sklearn.metrics import classification_report\n",
        "from sklearn.preprocessing import MinMaxScaler\n",
        "from sklearn.model_selection import GridSearchCV\n",
        "from sklearn.ensemble import RandomForestClassifier\n",
        "from sklearn.preprocessing import LabelEncoder\n",
        "from sklearn.impute import SimpleImputer\n",
        "from sklearn.metrics import accuracy_score, classification_report"
      ],
      "metadata": {
        "id": "wol9lThg2WTJ"
      },
      "execution_count": null,
      "outputs": []
    },
    {
      "cell_type": "markdown",
      "source": [
        "#**Análise exploratória dos dados**"
      ],
      "metadata": {
        "id": "pmaJxCMg2ch4"
      }
    },
    {
      "cell_type": "markdown",
      "source": [
        "Carregue a base de dados"
      ],
      "metadata": {
        "id": "qwFU_u4B2p5m"
      }
    },
    {
      "cell_type": "code",
      "source": [],
      "metadata": {
        "id": "Q2RKNiAW2izo"
      },
      "execution_count": null,
      "outputs": []
    },
    {
      "cell_type": "markdown",
      "source": [
        "Realize uma descrição estatística dos dados"
      ],
      "metadata": {
        "id": "GXcDYzmU2q7Z"
      }
    },
    {
      "cell_type": "code",
      "source": [],
      "metadata": {
        "id": "C9sdt9NT2tHI"
      },
      "execution_count": null,
      "outputs": []
    },
    {
      "cell_type": "markdown",
      "source": [
        "Visualize as distribuições e identifique a relevância das colunas para a análise"
      ],
      "metadata": {
        "id": "7JpqL2yJ2tfU"
      }
    },
    {
      "cell_type": "code",
      "source": [],
      "metadata": {
        "id": "fJziDvYk2vcw"
      },
      "execution_count": null,
      "outputs": []
    },
    {
      "cell_type": "markdown",
      "source": [
        "Verifique a presença de dados nulos, duplicados, outliers e demais inconsistências\n",
        "nos dados"
      ],
      "metadata": {
        "id": "fCsQpdbP2vvu"
      }
    },
    {
      "cell_type": "code",
      "source": [],
      "metadata": {
        "id": "MfDzdic22xrv"
      },
      "execution_count": null,
      "outputs": []
    },
    {
      "cell_type": "markdown",
      "source": [
        "#**Pré-processamento dos dados**"
      ],
      "metadata": {
        "id": "4itEjYGp2yLA"
      }
    },
    {
      "cell_type": "markdown",
      "source": [
        "Realize a normalização dos dados"
      ],
      "metadata": {
        "id": "EI5NWa5l22gW"
      }
    },
    {
      "cell_type": "code",
      "source": [],
      "metadata": {
        "id": "TJssvxKn256Q"
      },
      "execution_count": null,
      "outputs": []
    },
    {
      "cell_type": "markdown",
      "source": [
        "Faça uma seleção das variáveis mais relevantes para o modelo"
      ],
      "metadata": {
        "id": "MMSu00ym28B1"
      }
    },
    {
      "cell_type": "code",
      "source": [],
      "metadata": {
        "id": "95mZHBPu28ZZ"
      },
      "execution_count": null,
      "outputs": []
    },
    {
      "cell_type": "markdown",
      "source": [
        "Remova os dados nulos, duplicados, outliers e inconsistentes"
      ],
      "metadata": {
        "id": "60uu4YQT29wz"
      }
    },
    {
      "cell_type": "code",
      "source": [],
      "metadata": {
        "id": "2vd_OiTy2-Hn"
      },
      "execution_count": null,
      "outputs": []
    },
    {
      "cell_type": "markdown",
      "source": [
        "#**Selecione um algoritmo de clusterização**"
      ],
      "metadata": {
        "id": "sP0mlX1i2-lT"
      }
    },
    {
      "cell_type": "markdown",
      "source": [
        "Escolha um algoritmo adequado para base de dados, como o K0Means, DBSCAN,\n",
        "Hierarquia ou Mean Shift\n"
      ],
      "metadata": {
        "id": "2AOJCz7B3BMB"
      }
    },
    {
      "cell_type": "code",
      "source": [],
      "metadata": {
        "id": "h9FbViqD3Eeb"
      },
      "execution_count": null,
      "outputs": []
    },
    {
      "cell_type": "markdown",
      "source": [
        "Encontre a quantidade ideal de clusters através dos métodos de Elbow ou\n",
        "Silhouette Score\n"
      ],
      "metadata": {
        "id": "sXKMvYbL3Ge2"
      }
    },
    {
      "cell_type": "code",
      "source": [],
      "metadata": {
        "id": "RlPwixEa3G6o"
      },
      "execution_count": null,
      "outputs": []
    },
    {
      "cell_type": "markdown",
      "source": [
        " Implemente o algoritmo escolhido"
      ],
      "metadata": {
        "id": "FZO9NDvl3HQO"
      }
    },
    {
      "cell_type": "code",
      "source": [],
      "metadata": {
        "id": "6uia3NqP3I4R"
      },
      "execution_count": null,
      "outputs": []
    },
    {
      "cell_type": "markdown",
      "source": [
        "#**Analise os clusters obtidos**"
      ],
      "metadata": {
        "id": "QyDvz9OP3JRt"
      }
    },
    {
      "cell_type": "markdown",
      "source": [
        "Identifique os padrões e características em comum entre os clientes"
      ],
      "metadata": {
        "id": "g1riUn2B3UVC"
      }
    },
    {
      "cell_type": "code",
      "source": [],
      "metadata": {
        "id": "e87x5gDM3VDm"
      },
      "execution_count": null,
      "outputs": []
    },
    {
      "cell_type": "markdown",
      "source": [
        " Plote gráficos para auxiliar na análise"
      ],
      "metadata": {
        "id": "6_VuYy7c3Ofj"
      }
    },
    {
      "cell_type": "code",
      "source": [],
      "metadata": {
        "id": "yv1LIEED3OG3"
      },
      "execution_count": null,
      "outputs": []
    },
    {
      "cell_type": "markdown",
      "source": [
        "#**Interpretação dos resultados obtidos**"
      ],
      "metadata": {
        "id": "MXJ7DVGW3XDL"
      }
    },
    {
      "cell_type": "markdown",
      "source": [
        "Descreva o perfil de compras dos clientes de cada cluster"
      ],
      "metadata": {
        "id": "1-NiJsAC3Z72"
      }
    },
    {
      "cell_type": "code",
      "source": [],
      "metadata": {
        "id": "V2gcP73z3bZe"
      },
      "execution_count": null,
      "outputs": []
    },
    {
      "cell_type": "markdown",
      "source": [
        "Justifique como essa análise pode ser útil para empresa para segmentação de\n",
        "seus clientes e personalização das campanhas de marketing"
      ],
      "metadata": {
        "id": "zd-z45Yw3boB"
      }
    },
    {
      "cell_type": "code",
      "source": [],
      "metadata": {
        "id": "a4vT0F7x3c4G"
      },
      "execution_count": null,
      "outputs": []
    },
    {
      "cell_type": "markdown",
      "source": [
        "Sugira ações possíveis com base nas ações realizadas"
      ],
      "metadata": {
        "id": "9wQVNA4V3dSr"
      }
    },
    {
      "cell_type": "code",
      "source": [],
      "metadata": {
        "id": "IotBMIIk3fYF"
      },
      "execution_count": null,
      "outputs": []
    }
  ]
}